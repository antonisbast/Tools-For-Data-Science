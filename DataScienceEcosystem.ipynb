{
 "cells": [
  {
   "cell_type": "markdown",
   "id": "2c5aacd8-2bcd-4ba3-958e-b25231370545",
   "metadata": {},
   "source": [
    "# Data Science Tools and Ecosystem"
   ]
  },
  {
   "cell_type": "markdown",
   "id": "ee71c657-1c9f-4eeb-b97e-b55dec017009",
   "metadata": {},
   "source": [
    "In this notebook, Data Science Tools and Ecosystem are summarized."
   ]
  },
  {
   "cell_type": "markdown",
   "id": "387431bd-c310-4a7f-8401-793b8692ea48",
   "metadata": {},
   "source": [
    "**Objectives:**\n",
    "\n",
    "* List popular languages for Data Science.\n",
    "* Identify commonly used Data Science libraries.\n",
    "* Introduce open source Data Science tools.\n",
    "* Demonstrate basic arithmetic operations in Python."
   ]
  },
  {
   "cell_type": "markdown",
   "id": "f2ce4286-3632-46da-baf5-3c04739cccf4",
   "metadata": {},
   "source": [
    "Some of the popular languages that Data Scientists use are:\n",
    "1.  Python\n",
    "2.  R\n",
    "3.  SQL\n",
    "4.  Julia"
   ]
  },
  {
   "cell_type": "markdown",
   "id": "aa9c39fe-62b8-43ae-ba93-300c8fd1258f",
   "metadata": {},
   "source": [
    "Some of the commonly used libraries used by Data Scientists include:\n",
    "1.  NumPy\n",
    "2.  Pandas\n",
    "3.  Scikit-learn\n",
    "4.  TensorFlow\n",
    "5.  PyTorch\n"
   ]
  },
  {
   "cell_type": "markdown",
   "id": "ed4329c1-c484-49d1-8fb5-eb4a3c95e846",
   "metadata": {},
   "source": [
    "| Data Science Tools |\n",
    "|--------------------|\n",
    "| Jupyter Notebooks  |\n",
    "| RStudio            |\n",
    "| VS Code            |"
   ]
  },
  {
   "cell_type": "markdown",
   "id": "b70d5149-ae03-4aa7-8c30-bb43c34cf5e0",
   "metadata": {},
   "source": [
    "### Below are a few examples of evaluating arithmetic expressions in Python."
   ]
  },
  {
   "cell_type": "code",
   "execution_count": 9,
   "id": "3be737ee-a106-4dc1-b4c8-3085f51a5ba1",
   "metadata": {},
   "outputs": [
    {
     "data": {
      "text/plain": [
       "17"
      ]
     },
     "execution_count": 9,
     "metadata": {},
     "output_type": "execute_result"
    }
   ],
   "source": [
    "# This a simple arithmetic expression to mutiply then add integers\n",
    "(3*4)+5"
   ]
  },
  {
   "cell_type": "code",
   "execution_count": 13,
   "id": "d28a881f-1157-48d2-8575-71a6f37c58b8",
   "metadata": {},
   "outputs": [
    {
     "name": "stdout",
     "output_type": "stream",
     "text": [
      "3.3333333333333335\n"
     ]
    }
   ],
   "source": [
    "# This will convert 200 minutes to hours by diving by 60\n",
    "hours = 200/60\n",
    "print (hours)"
   ]
  },
  {
   "cell_type": "markdown",
   "id": "31909ad7-3267-4b06-863e-633d97c9b3a4",
   "metadata": {},
   "source": [
    "## Author ## \n",
    "Antonios Bastoulis "
   ]
  },
  {
   "cell_type": "code",
   "execution_count": null,
   "id": "f1858a0c-9681-496a-a4ac-6954576c2e79",
   "metadata": {},
   "outputs": [],
   "source": []
  }
 ],
 "metadata": {
  "kernelspec": {
   "display_name": "Python [conda env:base] *",
   "language": "python",
   "name": "conda-base-py"
  },
  "language_info": {
   "codemirror_mode": {
    "name": "ipython",
    "version": 3
   },
   "file_extension": ".py",
   "mimetype": "text/x-python",
   "name": "python",
   "nbconvert_exporter": "python",
   "pygments_lexer": "ipython3",
   "version": "3.12.7"
  }
 },
 "nbformat": 4,
 "nbformat_minor": 5
}
